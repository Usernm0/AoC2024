{
 "cells": [
  {
   "cell_type": "code",
   "execution_count": null,
   "id": "4d41f361-7342-422f-b6e5-71504a3af9df",
   "metadata": {},
   "outputs": [],
   "source": []
  },
  {
   "cell_type": "code",
   "execution_count": 80,
   "id": "fb76b9d4-a980-455f-af19-6a28bc95c953",
   "metadata": {},
   "outputs": [
    {
     "name": "stdout",
     "output_type": "stream",
     "text": [
      "Input of 3 already downloaded, loading cached version from Day03\\d03_input.txt\n"
     ]
    }
   ],
   "source": [
    "import os\n",
    "import requests\n",
    "\n",
    "day = 3\n",
    "rel_path = f\"Day{day:02d}\"\n",
    "file_name = f\"d{day:02d}_input.txt\"\n",
    "full_rel_path = os.path.join(rel_path, file_name)\n",
    "\n",
    "if os.path.exists(full_rel_path):\n",
    "    print(f\"Input of {day} already downloaded, loading cached version from {full_rel_path}\")\n",
    "    with open(full_rel_path, \"r\") as file:\n",
    "        text = file.read()\n",
    "else:\n",
    "    print(f\"download input of {day} from server\")\n",
    "    with open(\"session_id.txt\", \"r\") as file:\n",
    "        session_id = file.read()\n",
    "    request = requests.get(f'https://adventofcode.com/2024/day/{day}/input', cookies={\"session\":session_id})\n",
    "    text = request.content.decode(\"utf8\")\n",
    "    print(f\"cache input in {full_rel_path}\")\n",
    "    os.makedirs(rel_path, exist_ok=True)\n",
    "    with open(os.path.join(full_rel_path), \"w\") as file:\n",
    "        file.write(text)"
   ]
  },
  {
   "cell_type": "code",
   "execution_count": 31,
   "id": "db88d4b5-53e9-4d18-8093-2df39eac0a22",
   "metadata": {},
   "outputs": [
    {
     "name": "stdout",
     "output_type": "stream",
     "text": [
      "Input of 3 already downloaded, loading cached version from Day03\\d03_sample_input.txt\n"
     ]
    }
   ],
   "source": [
    "day = 3\n",
    "rel_path = f\"Day{day:02d}\"\n",
    "file_name = f\"d{day:02d}_sample_input.txt\"\n",
    "full_rel_path = os.path.join(rel_path, file_name)\n",
    "\n",
    "if os.path.exists(full_rel_path):\n",
    "    print(f\"Input of {day} already downloaded, loading cached version from {full_rel_path}\")\n",
    "    with open(full_rel_path, \"r\") as file:\n",
    "        text = file.read()"
   ]
  },
  {
   "cell_type": "code",
   "execution_count": 27,
   "id": "8e696a71-ee51-4c9e-ba30-f3ee4bf8d3ee",
   "metadata": {},
   "outputs": [
    {
     "name": "stdout",
     "output_type": "stream",
     "text": [
      "3714264\n"
     ]
    }
   ],
   "source": [
    "# Day 1-1\n",
    "\n",
    "a, b, c = [], [], []\n",
    "\n",
    "for line in text.rstrip('\\n').split('\\n'):\n",
    "    n1, n2 = line.split('   ')\n",
    "    a.append(int(n1))\n",
    "    b.append(int(n2))\n",
    "a.sort()\n",
    "b.sort()\n",
    "for i in range(0, len(a)):\n",
    "    c.append(abs(b[i] - a[i]))\n",
    "print(sum(c))"
   ]
  },
  {
   "cell_type": "code",
   "execution_count": 26,
   "id": "73091658-efff-4045-a22a-d4b8134f7c99",
   "metadata": {},
   "outputs": [
    {
     "name": "stdout",
     "output_type": "stream",
     "text": [
      "18805872\n"
     ]
    }
   ],
   "source": [
    "# Day 1-2\n",
    "\n",
    "a, b, c = [], [], []\n",
    "\n",
    "for line in text.rstrip('\\n').split('\\n'):\n",
    "    n1, n2 = line.split('   ')\n",
    "    a.append(int(n1))\n",
    "    b.append(int(n2))\n",
    "a.sort()\n",
    "b.sort()\n",
    "for i in range(0, len(a)):\n",
    "    c.append(a[i] * b.count(a[i]))\n",
    "print(sum(c))"
   ]
  },
  {
   "cell_type": "code",
   "execution_count": 19,
   "id": "81ce1c80-7c1d-4583-85e6-6b9ba7d23a70",
   "metadata": {},
   "outputs": [
    {
     "name": "stdout",
     "output_type": "stream",
     "text": [
      "534\n"
     ]
    }
   ],
   "source": [
    "# Day 2-1\n",
    "count = 0\n",
    "for line in text.rstrip('\\n').split('\\n'):\n",
    "    line = [int(item) for item in line.split()]\n",
    "    asc = True\n",
    "    desc = True\n",
    "    safe = True\n",
    "    for i in range(len(line) - 1):\n",
    "        dir = line[i] - line[i + 1]\n",
    "        if dir > 0:\n",
    "            asc = False\n",
    "        if dir < 0:\n",
    "            desc = False\n",
    "        if dir > 3 or dir < -3 or dir == 0 or (asc == False and desc == False):\n",
    "            safe = False\n",
    "        if safe == False:\n",
    "            break\n",
    "    if safe == True:\n",
    "        count += 1\n",
    "print(count)    "
   ]
  },
  {
   "cell_type": "code",
   "execution_count": 64,
   "id": "8b3a09cd-4e22-4681-b677-17b6be1270e4",
   "metadata": {},
   "outputs": [
    {
     "name": "stdout",
     "output_type": "stream",
     "text": [
      "577\n"
     ]
    }
   ],
   "source": [
    "# Day 2-2\n",
    "count = 0\n",
    "\n",
    "def check_line(line):\n",
    "    asc = True\n",
    "    desc = True\n",
    "    safe = True\n",
    "    for i in range(len(line) - 1):\n",
    "        dir = line[i] - line[i + 1]\n",
    "        if dir > 0:\n",
    "            asc = False\n",
    "        if dir < 0:\n",
    "            desc = False\n",
    "        if dir > 3 or dir < -3 or dir == 0 or (asc == False and desc == False):\n",
    "            safe = False\n",
    "    return safe\n",
    "\n",
    "for line in text.rstrip('\\n').split('\\n'):\n",
    "    line = [int(item) for item in line.split()]\n",
    "    if check_line(line):\n",
    "        count += 1\n",
    "        continue\n",
    "    for i in range(len(line)):\n",
    "        nline = line.copy()\n",
    "        del nline[i]\n",
    "        if check_line(nline):\n",
    "            count += 1\n",
    "            break\n",
    "print(count)"
   ]
  },
  {
   "cell_type": "code",
   "execution_count": 37,
   "id": "c9263b76-568b-4ea1-aee6-371e78930084",
   "metadata": {},
   "outputs": [
    {
     "name": "stdout",
     "output_type": "stream",
     "text": [
      "173731097\n"
     ]
    }
   ],
   "source": [
    "# 3-1\n",
    "\n",
    "import re\n",
    "\n",
    "#print(text)\n",
    "x = re.findall(\"mul\\\\([\\\\d]+\\\\,[\\\\d]+\\\\)\", text)\n",
    "total = 0\n",
    "for item in x:\n",
    "    a, b = item.lstrip(\"mul(\").rstrip(\")\").split(\",\")\n",
    "    total += int(a) * int(b)\n",
    "    #print(a, b)\n",
    "print(total)"
   ]
  },
  {
   "cell_type": "code",
   "execution_count": 73,
   "id": "bb1478ba-6c8b-448e-a907-258dbe47cd6d",
   "metadata": {},
   "outputs": [
    {
     "name": "stdout",
     "output_type": "stream",
     "text": [
      "434\n",
      "110319118\n"
     ]
    }
   ],
   "source": [
    "# 3-2\n",
    "\n",
    "import re\n",
    "\n",
    "#print(text)\n",
    "text.replace('\\n', \"\")\n",
    "text2 = re.sub(\"don't\\\\(\\\\).*?do\\\\(\\\\)\", \"\", text)\n",
    "x = re.findall(\"mul\\\\([\\\\d]+\\\\,[\\\\d]+\\\\)\", text2)\n",
    "total = 0\n",
    "print(len(x))\n",
    "for item in x:\n",
    "    a, b = item.lstrip(\"mul(\").rstrip(\")\").split(\",\")\n",
    "    total += int(a) * int(b)\n",
    "    #print(a, b)\n",
    "print(total)"
   ]
  },
  {
   "cell_type": "code",
   "execution_count": 83,
   "id": "b0bed6d4-01eb-42a6-b9df-8fb247128f95",
   "metadata": {},
   "outputs": [
    {
     "name": "stdout",
     "output_type": "stream",
     "text": [
      "93729253\n"
     ]
    }
   ],
   "source": [
    "# 3-2\n",
    "\n",
    "import re\n",
    "\n",
    "a = text.replace('\\n', \"\").split(\"do()\")\n",
    "x = \"\"\n",
    "\n",
    "for e in a:\n",
    "    e = re.sub(\"don't\\\\(\\\\).*\", \"\", e)\n",
    "    x += e\n",
    "x = re.findall(\"mul\\\\([\\\\d]+\\\\,[\\\\d]+\\\\)\", x)\n",
    "total = 0\n",
    "for item in x:\n",
    "    a, b = item.lstrip(\"mul(\").rstrip(\")\").split(\",\")\n",
    "    total += int(a) * int(b)\n",
    "print(total)"
   ]
  }
 ],
 "metadata": {
  "kernelspec": {
   "display_name": "Python 3 (ipykernel)",
   "language": "python",
   "name": "python3"
  },
  "language_info": {
   "codemirror_mode": {
    "name": "ipython",
    "version": 3
   },
   "file_extension": ".py",
   "mimetype": "text/x-python",
   "name": "python",
   "nbconvert_exporter": "python",
   "pygments_lexer": "ipython3",
   "version": "3.12.3"
  }
 },
 "nbformat": 4,
 "nbformat_minor": 5
}
