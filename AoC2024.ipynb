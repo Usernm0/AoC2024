{
 "cells": [
  {
   "cell_type": "code",
   "execution_count": null,
   "id": "4d41f361-7342-422f-b6e5-71504a3af9df",
   "metadata": {},
   "outputs": [],
   "source": []
  },
  {
   "cell_type": "code",
   "execution_count": 25,
   "id": "fb76b9d4-a980-455f-af19-6a28bc95c953",
   "metadata": {},
   "outputs": [
    {
     "name": "stdout",
     "output_type": "stream",
     "text": [
      "Input of 1 already downloaded, loading cached version from Day01\\d01_input.txt\n"
     ]
    }
   ],
   "source": [
    "import os\n",
    "import requests\n",
    "\n",
    "day = 1\n",
    "rel_path = f\"Day{day:02d}\"\n",
    "file_name = f\"d{day:02d}_input.txt\"\n",
    "full_rel_path = os.path.join(rel_path, file_name)\n",
    "\n",
    "if os.path.exists(full_rel_path):\n",
    "    print(f\"Input of {day} already downloaded, loading cached version from {full_rel_path}\")\n",
    "    with open(full_rel_path, \"r\") as file:\n",
    "        text = file.read()\n",
    "else:\n",
    "    print(f\"download input of {day} from server\")\n",
    "    with open(\"session_id.txt\", \"r\") as file:\n",
    "        session_id = file.read()\n",
    "    request = requests.get(f'https://adventofcode.com/2024/day/{day}/input', cookies={\"session\":session_id})\n",
    "    text = request.content.decode(\"utf8\")\n",
    "    print(f\"cache input in {full_rel_path}\")\n",
    "    os.makedirs(rel_path, exist_ok=True)\n",
    "    with open(os.path.join(full_rel_path), \"w\") as file:\n",
    "        file.write(text)"
   ]
  },
  {
   "cell_type": "code",
   "execution_count": 22,
   "id": "db88d4b5-53e9-4d18-8093-2df39eac0a22",
   "metadata": {},
   "outputs": [
    {
     "name": "stdout",
     "output_type": "stream",
     "text": [
      "Input of 1 already downloaded, loading cached version from Day01\\d01_sample_input.txt\n"
     ]
    }
   ],
   "source": [
    "day = 1\n",
    "rel_path = f\"Day{day:02d}\"\n",
    "file_name = f\"d{day:02d}_sample_input.txt\"\n",
    "full_rel_path = os.path.join(rel_path, file_name)\n",
    "\n",
    "if os.path.exists(full_rel_path):\n",
    "    print(f\"Input of {day} already downloaded, loading cached version from {full_rel_path}\")\n",
    "    with open(full_rel_path, \"r\") as file:\n",
    "        text = file.read()"
   ]
  },
  {
   "cell_type": "code",
   "execution_count": 27,
   "id": "8e696a71-ee51-4c9e-ba30-f3ee4bf8d3ee",
   "metadata": {},
   "outputs": [
    {
     "name": "stdout",
     "output_type": "stream",
     "text": [
      "3714264\n"
     ]
    }
   ],
   "source": [
    "a, b, c = [], [], []\n",
    "\n",
    "for line in text.rstrip('\\n').split('\\n'):\n",
    "    n1, n2 = line.split('   ')\n",
    "    a.append(int(n1))\n",
    "    b.append(int(n2))\n",
    "a.sort()\n",
    "b.sort()\n",
    "for i in range(0, len(a)):\n",
    "    c.append(abs(b[i] - a[i]))\n",
    "print(sum(c))"
   ]
  },
  {
   "cell_type": "code",
   "execution_count": 26,
   "id": "73091658-efff-4045-a22a-d4b8134f7c99",
   "metadata": {},
   "outputs": [
    {
     "name": "stdout",
     "output_type": "stream",
     "text": [
      "18805872\n"
     ]
    }
   ],
   "source": [
    "a, b, c = [], [], []\n",
    "\n",
    "for line in text.rstrip('\\n').split('\\n'):\n",
    "    n1, n2 = line.split('   ')\n",
    "    a.append(int(n1))\n",
    "    b.append(int(n2))\n",
    "a.sort()\n",
    "b.sort()\n",
    "for i in range(0, len(a)):\n",
    "    c.append(a[i] * b.count(a[i]))\n",
    "print(sum(c))"
   ]
  }
 ],
 "metadata": {
  "kernelspec": {
   "display_name": "Python 3 (ipykernel)",
   "language": "python",
   "name": "python3"
  },
  "language_info": {
   "codemirror_mode": {
    "name": "ipython",
    "version": 3
   },
   "file_extension": ".py",
   "mimetype": "text/x-python",
   "name": "python",
   "nbconvert_exporter": "python",
   "pygments_lexer": "ipython3",
   "version": "3.12.3"
  }
 },
 "nbformat": 4,
 "nbformat_minor": 5
}
